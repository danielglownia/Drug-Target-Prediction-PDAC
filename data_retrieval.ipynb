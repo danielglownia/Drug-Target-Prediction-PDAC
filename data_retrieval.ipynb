{
 "cells": [
  {
   "cell_type": "code",
   "execution_count": 2,
   "id": "ffa9d5f9-8ae3-4765-801c-bde7a6ddbcb2",
   "metadata": {},
   "outputs": [],
   "source": [
    "import pandas as pd"
   ]
  },
  {
   "cell_type": "markdown",
   "id": "9e5665af-23c8-46ac-ae8c-0f56658ca4b8",
   "metadata": {},
   "source": [
    "# Read Sample Data "
   ]
  },
  {
   "cell_type": "code",
   "execution_count": null,
   "id": "1c4867e0-3065-49c0-b19a-0ed705feb324",
   "metadata": {},
   "outputs": [],
   "source": []
  },
  {
   "cell_type": "code",
   "execution_count": null,
   "id": "2a8f96f9-084e-4686-ae3d-ed1736ea0023",
   "metadata": {},
   "outputs": [],
   "source": []
  }
 ],
 "metadata": {
  "kernelspec": {
   "display_name": "Python 3 (ipykernel)",
   "language": "python",
   "name": "python3"
  },
  "language_info": {
   "codemirror_mode": {
    "name": "ipython",
    "version": 3
   },
   "file_extension": ".py",
   "mimetype": "text/x-python",
   "name": "python",
   "nbconvert_exporter": "python",
   "pygments_lexer": "ipython3",
   "version": "3.9.7"
  }
 },
 "nbformat": 4,
 "nbformat_minor": 5
}
